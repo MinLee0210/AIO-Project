{
  "nbformat": 4,
  "nbformat_minor": 0,
  "metadata": {
    "colab": {
      "provenance": []
    },
    "kernelspec": {
      "name": "python3",
      "display_name": "Python 3"
    },
    "language_info": {
      "name": "python"
    },
    "accelerator": "GPU",
    "gpuClass": "standard"
  },
  "cells": [
    {
      "cell_type": "code",
      "execution_count": null,
      "metadata": {
        "colab": {
          "base_uri": "https://localhost:8080/"
        },
        "id": "OwBxhY2y7lZz",
        "outputId": "3d86a25f-da15-4e68-d753-580155f4d05e"
      },
      "outputs": [
        {
          "output_type": "stream",
          "name": "stdout",
          "text": [
            "Downloading...\n",
            "From: https://drive.google.com/uc?id=1f7WAwkuTFgLzCCTs2HZv3AmtBkET4l1M\n",
            "To: /content/sem_eval_2018.zip\n",
            "\r  0% 0.00/662k [00:00<?, ?B/s]\r100% 662k/662k [00:00<00:00, 85.7MB/s]\n"
          ]
        }
      ],
      "source": [
        "!gdown 1f7WAwkuTFgLzCCTs2HZv3AmtBkET4l1M"
      ]
    },
    {
      "cell_type": "code",
      "source": [
        "!unzip /content/sem_eval_2018.zip"
      ],
      "metadata": {
        "colab": {
          "base_uri": "https://localhost:8080/"
        },
        "id": "Ijn3bsBt8EJx",
        "outputId": "078fcd01-41f1-40f8-eaa5-66c46b68f9c2"
      },
      "execution_count": null,
      "outputs": [
        {
          "output_type": "stream",
          "name": "stdout",
          "text": [
            "Archive:  /content/sem_eval_2018.zip\n",
            "replace sem_eval_2018/val.csv? [y]es, [n]o, [A]ll, [N]one, [r]ename: y\n",
            "  inflating: sem_eval_2018/val.csv   \n",
            "replace sem_eval_2018/test.csv? [y]es, [n]o, [A]ll, [N]one, [r]ename: y\n",
            "  inflating: sem_eval_2018/test.csv  \n",
            "replace sem_eval_2018/train.csv? [y]es, [n]o, [A]ll, [N]one, [r]ename: y\n",
            "  inflating: sem_eval_2018/train.csv  \n"
          ]
        }
      ]
    },
    {
      "cell_type": "code",
      "source": [
        "!pip install unidecode"
      ],
      "metadata": {
        "colab": {
          "base_uri": "https://localhost:8080/"
        },
        "id": "OiF4ghFh9sHR",
        "outputId": "4e35f815-d283-4ee8-ba3c-898f1287729b"
      },
      "execution_count": null,
      "outputs": [
        {
          "output_type": "stream",
          "name": "stdout",
          "text": [
            "Looking in indexes: https://pypi.org/simple, https://us-python.pkg.dev/colab-wheels/public/simple/\n",
            "Requirement already satisfied: unidecode in /usr/local/lib/python3.8/dist-packages (1.3.6)\n"
          ]
        }
      ]
    },
    {
      "cell_type": "code",
      "source": [
        "import pandas as pd\n",
        "import tensorflow as tf\n",
        "import matplotlib.pyplot as plt\n",
        "\n",
        "from tensorflow import keras"
      ],
      "metadata": {
        "id": "0y0yGmqL7w_l"
      },
      "execution_count": null,
      "outputs": []
    },
    {
      "cell_type": "code",
      "source": [
        "train_df = pd.read_csv('/content/sem_eval_2018/train.csv')\n",
        "val_df = pd.read_csv('/content/sem_eval_2018/val.csv')\n",
        "test_df = pd.read_csv('/content/sem_eval_2018/test.csv')"
      ],
      "metadata": {
        "id": "uxJ1B2OG7-Jg"
      },
      "execution_count": null,
      "outputs": []
    },
    {
      "cell_type": "code",
      "source": [
        "train_df.keys()"
      ],
      "metadata": {
        "colab": {
          "base_uri": "https://localhost:8080/"
        },
        "id": "pPLPVoGRAtwT",
        "outputId": "03b9ae32-0ab6-433d-beaf-c9eb3dd4beb7"
      },
      "execution_count": null,
      "outputs": [
        {
          "output_type": "execute_result",
          "data": {
            "text/plain": [
              "Index(['Unnamed: 0', 'ID', 'Tweet', 'anger', 'anticipation', 'disgust', 'fear',\n",
              "       'joy', 'love', 'optimism', 'pessimism', 'sadness', 'surprise', 'trust'],\n",
              "      dtype='object')"
            ]
          },
          "metadata": {},
          "execution_count": 51
        }
      ]
    },
    {
      "cell_type": "code",
      "source": [
        "import numpy as np\n",
        "\n",
        "classes_name = np.array(train_df.columns[3:])\n",
        "\n",
        "n_classes = len(classes_name)\n",
        "\n",
        "n_samples = train_df.shape[0] + test_df.shape[0] + val_df.shape[0]\n",
        "\n",
        "print(classes_name)\n",
        "print(n_classes)\n",
        "print(n_samples)"
      ],
      "metadata": {
        "colab": {
          "base_uri": "https://localhost:8080/"
        },
        "id": "4WIBSdTB8kZx",
        "outputId": "bc7651df-d73d-4227-daae-84cd18cc1182"
      },
      "execution_count": null,
      "outputs": [
        {
          "output_type": "stream",
          "name": "stdout",
          "text": [
            "['anger' 'anticipation' 'disgust' 'fear' 'joy' 'love' 'optimism'\n",
            " 'pessimism' 'sadness' 'surprise' 'trust']\n",
            "11\n",
            "10983\n"
          ]
        }
      ]
    },
    {
      "cell_type": "code",
      "source": [
        "import re \n",
        "import nltk\n",
        "import unidecode\n",
        "\n",
        "nltk.download('stopwords')\n",
        "\n",
        "from nltk.corpus import stopwords\n",
        "from nltk.stem.porter import PorterStemmer\n",
        "\n",
        "english_stop_words = stopwords.words('english')\n",
        "stemmer = PorterStemmer()\n",
        "\n",
        "def text_normalize(text):\n",
        "  text = text.lower()\n",
        "  text = unidecode.unidecode(text)\n",
        "  text = text.strip()\n",
        "  text = re.sub('[^\\w\\s]','', text)\n",
        "  text = ' '.join([word for word in text.split(' ') if word not in english_stop_words])\n",
        "  text = ' '.join([stemmer.stem(word) for word in text.split(' ')])\n",
        "  return text"
      ],
      "metadata": {
        "colab": {
          "base_uri": "https://localhost:8080/"
        },
        "id": "Z3fEfM4R9Sjg",
        "outputId": "5849886a-efa8-4b4f-888f-458f4cc37462"
      },
      "execution_count": null,
      "outputs": [
        {
          "output_type": "stream",
          "name": "stderr",
          "text": [
            "[nltk_data] Downloading package stopwords to /root/nltk_data...\n",
            "[nltk_data]   Package stopwords is already up-to-date!\n"
          ]
        }
      ]
    },
    {
      "cell_type": "code",
      "source": [
        "train_df['Tweet'] = train_df['Tweet'].apply(lambda p: text_normalize(p)).astype(str)\n",
        "test_df['Tweet'] = test_df['Tweet'].apply(lambda p: text_normalize(p)).astype(str)\n",
        "val_df['Tweet'] = val_df['Tweet'].apply(lambda p: text_normalize(p)).astype(str)"
      ],
      "metadata": {
        "id": "ckVP83FL-EIe"
      },
      "execution_count": null,
      "outputs": []
    },
    {
      "cell_type": "code",
      "source": [
        "X_train = train_df['Tweet'].to_numpy()\n",
        "y_train = train_df[classes_name].astype('int').to_numpy()\n",
        "\n",
        "X_val = val_df['Tweet'].to_numpy()\n",
        "y_val = val_df[classes_name].astype('int').to_numpy()\n",
        "\n",
        "X_test = test_df['Tweet'].to_numpy()\n",
        "y_test = test_df[classes_name].astype('int').to_numpy()"
      ],
      "metadata": {
        "id": "NuNF-fcH_UTW"
      },
      "execution_count": null,
      "outputs": []
    },
    {
      "cell_type": "code",
      "source": [
        "BATCH_SIZE=128\n",
        "\n",
        "train_ds = tf.data.Dataset.from_tensor_slices((X_train, y_train)).cache().batch(BATCH_SIZE)\n",
        "val_ds = tf.data.Dataset.from_tensor_slices((X_val, y_val)).cache().batch(BATCH_SIZE)\n",
        "test_ds = tf.data.Dataset.from_tensor_slices((X_test, y_test)).cache().batch(BATCH_SIZE)"
      ],
      "metadata": {
        "id": "82PR14IRA870"
      },
      "execution_count": null,
      "outputs": []
    },
    {
      "cell_type": "code",
      "source": [
        "type(train_ds)"
      ],
      "metadata": {
        "id": "lHx9kh3PPoUh",
        "outputId": "563813b9-3dd2-4245-97ee-af7b795e4714",
        "colab": {
          "base_uri": "https://localhost:8080/"
        }
      },
      "execution_count": null,
      "outputs": [
        {
          "output_type": "execute_result",
          "data": {
            "text/plain": [
              "tensorflow.python.data.ops.dataset_ops.PrefetchDataset"
            ]
          },
          "metadata": {},
          "execution_count": 85
        }
      ]
    },
    {
      "cell_type": "code",
      "source": [
        "def inverse_label(class_lst, onehot_label):\n",
        "\n",
        "    return class_lst[onehot_label > 0]\n",
        "\n",
        "for text_batch, label_batch in train_ds.take(1):\n",
        "  for i in range(10):\n",
        "    print(\"Text: \", text_batch.numpy()[i])\n",
        "    print(\"Label:\", inverse_label(classes_name, label_batch.numpy()[i]))"
      ],
      "metadata": {
        "colab": {
          "base_uri": "https://localhost:8080/"
        },
        "id": "0itE611hMYLL",
        "outputId": "df61425f-ee33-4eae-80f3-05f32f3b56a9"
      },
      "execution_count": null,
      "outputs": [
        {
          "output_type": "stream",
          "name": "stdout",
          "text": [
            "Text:  b'worri payment problem may never  joyc meyer  motiv leadership worri'\n",
            "Label: ['anticipation' 'optimism' 'trust']\n",
            "Text:  b'whatev decid make sure make happi'\n",
            "Label: ['joy' 'love' 'optimism']\n",
            "Text:  b'max_kellerman  also help major nfl coach inept bill obrien play call wow  gopat'\n",
            "Label: ['anger' 'disgust' 'joy' 'optimism']\n",
            "Text:  b'accept challeng liter even feel exhilar victori  georg patton'\n",
            "Label: ['joy' 'optimism']\n",
            "Text:  b'roommat okay cant spell autocorrect terribl firstworldprob'\n",
            "Label: ['anger' 'disgust']\n",
            "Text:  b'that cute atsu probabl shi photo cherri help uwu'\n",
            "Label: ['joy']\n",
            "Text:  b'think human sens recogn impend doom'\n",
            "Label: ['anticipation' 'pessimism']\n",
            "Text:  b'rooney fuck untouch isnt fuck dread depay look decentishtonight'\n",
            "Label: ['anger' 'disgust']\n",
            "Text:  b'pretti depress u hit pan ur favourit highlight'\n",
            "Label: ['disgust' 'sadness']\n",
            "Text:  b'bossupjae pussi weak heard stfu bitch  got threaten pregnant '\n",
            "Label: ['anger' 'disgust']\n"
          ]
        }
      ]
    },
    {
      "cell_type": "code",
      "source": [
        "AUTOTUNE = tf.data.AUTOTUNE\n",
        "\n",
        "train_ds = train_ds.cache().prefetch(buffer_size=AUTOTUNE)\n",
        "val_ds = val_ds.cache().prefetch(buffer_size=AUTOTUNE)\n",
        "test_ds = test_ds.cache().prefetch(buffer_size=AUTOTUNE)"
      ],
      "metadata": {
        "id": "ltqvs3S7Lzyn"
      },
      "execution_count": null,
      "outputs": []
    },
    {
      "cell_type": "code",
      "source": [
        "MAX_SEQ_LEN = 128\n",
        "MAX_FEATURES = 5000\n",
        "EMBEDDING_DIMS = 64\n",
        "\n",
        "text_vectorization_layer = tf.keras.layers.TextVectorization(\n",
        "    max_tokens=MAX_FEATURES, \n",
        "    output_mode='int', \n",
        "    output_sequence_length=MAX_SEQ_LEN, \n",
        "    name='vectorization_layer'\n",
        ")\n",
        "\n",
        "train_text = train_ds.map(lambda text, label: text)\n",
        "text_vectorization_layer.adapt(train_text)"
      ],
      "metadata": {
        "id": "QUz9xQUzDDNH"
      },
      "execution_count": null,
      "outputs": []
    },
    {
      "cell_type": "code",
      "source": [
        "model = keras.Sequential()\n",
        "model.add(keras.Input(shape=(1, ), dtype='string', name='input_layer'))\n",
        "\n",
        "model.add(text_vectorization_layer)\n",
        "model.add(keras.layers.Embedding(MAX_FEATURES + 1, EMBEDDING_DIMS, name='embedding_layer'))\n",
        "\n",
        "model.add(keras.layers.Bidirectional(keras.layers.LSTM(64, return_sequences=True), name='bi_lstm_layer_1'))\n",
        "model.add(keras.layers.Bidirectional(keras.layers.LSTM(64, return_sequences=True), name='bi_lstm_layer_2'))\n",
        "model.add(keras.layers.Bidirectional(keras.layers.LSTM(64, return_sequences=False), name='bi_lstm_layer_3'))\n",
        "\n",
        "model.add(keras.layers.Dropout(0.2, name='dropout_layer_1'))\n",
        "model.add(keras.layers.Dense(64, activation='relu', name='fl_layer_1'))\n",
        "\n",
        "model.add(keras.layers.Dropout(0.3, name='dropout_layer_2'))\n",
        "model.add(keras.layers.Dense(32, activation='relu', name='fl_layer_2'))\n",
        "\n",
        "model.add(keras.layers.Dropout(0.3, name='dropout_layer_3'))\n",
        "model.add(keras.layers.Dense(11, activation='sigmoid', name='output_layer'))\n",
        "model.summary()"
      ],
      "metadata": {
        "colab": {
          "base_uri": "https://localhost:8080/"
        },
        "id": "4lErbttrDmuU",
        "outputId": "c33ee44e-894d-40bd-8735-a8ac7cae3777"
      },
      "execution_count": null,
      "outputs": [
        {
          "output_type": "stream",
          "name": "stdout",
          "text": [
            "Model: \"sequential_6\"\n",
            "_________________________________________________________________\n",
            " Layer (type)                Output Shape              Param #   \n",
            "=================================================================\n",
            " vectorization_layer (TextVe  (None, 128)              0         \n",
            " ctorization)                                                    \n",
            "                                                                 \n",
            " embedding_layer (Embedding)  (None, 128, 64)          320064    \n",
            "                                                                 \n",
            " bi_lstm_layer_1 (Bidirectio  (None, 128, 128)         66048     \n",
            " nal)                                                            \n",
            "                                                                 \n",
            " bi_lstm_layer_2 (Bidirectio  (None, 128, 128)         98816     \n",
            " nal)                                                            \n",
            "                                                                 \n",
            " bi_lstm_layer_3 (Bidirectio  (None, 128)              98816     \n",
            " nal)                                                            \n",
            "                                                                 \n",
            " dropout_layer_1 (Dropout)   (None, 128)               0         \n",
            "                                                                 \n",
            " fl_layer_1 (Dense)          (None, 64)                8256      \n",
            "                                                                 \n",
            " dropout_layer_2 (Dropout)   (None, 64)                0         \n",
            "                                                                 \n",
            " fl_layer_2 (Dense)          (None, 32)                2080      \n",
            "                                                                 \n",
            " dropout_layer_3 (Dropout)   (None, 32)                0         \n",
            "                                                                 \n",
            " output_layer (Dense)        (None, 11)                363       \n",
            "                                                                 \n",
            "=================================================================\n",
            "Total params: 594,443\n",
            "Trainable params: 594,443\n",
            "Non-trainable params: 0\n",
            "_________________________________________________________________\n"
          ]
        }
      ]
    },
    {
      "cell_type": "code",
      "source": [
        "model.compile(\n",
        "    optimizer = keras.optimizers.Adam(learning_rate=1e-4), \n",
        "    loss = keras.losses.BinaryCrossentropy(), \n",
        "    metrics=['accuracy']\n",
        ")\n",
        "\n",
        "record = model.fit(train_ds,\n",
        "                   validation_data = val_ds, \n",
        "                   epochs=30, \n",
        "                   verbose=2)"
      ],
      "metadata": {
        "colab": {
          "base_uri": "https://localhost:8080/"
        },
        "id": "EHmhXRiyIl1R",
        "outputId": "54f6911f-d778-40fa-a93b-eef2b5757b95"
      },
      "execution_count": null,
      "outputs": [
        {
          "output_type": "stream",
          "name": "stdout",
          "text": [
            "Epoch 1/30\n",
            "54/54 - 18s - loss: 0.6567 - accuracy: 0.0481 - val_loss: 0.5636 - val_accuracy: 0.0147 - 18s/epoch - 328ms/step\n",
            "Epoch 2/30\n",
            "54/54 - 2s - loss: 0.5861 - accuracy: 0.0915 - val_loss: 0.5211 - val_accuracy: 0.0147 - 2s/epoch - 45ms/step\n",
            "Epoch 3/30\n",
            "54/54 - 2s - loss: 0.5626 - accuracy: 0.1261 - val_loss: 0.5070 - val_accuracy: 0.0147 - 2s/epoch - 44ms/step\n",
            "Epoch 4/30\n",
            "54/54 - 2s - loss: 0.5522 - accuracy: 0.1353 - val_loss: 0.5014 - val_accuracy: 0.0327 - 2s/epoch - 44ms/step\n",
            "Epoch 5/30\n",
            "54/54 - 2s - loss: 0.5440 - accuracy: 0.1454 - val_loss: 0.4998 - val_accuracy: 0.2754 - 2s/epoch - 44ms/step\n",
            "Epoch 6/30\n",
            "54/54 - 2s - loss: 0.5369 - accuracy: 0.1454 - val_loss: 0.4923 - val_accuracy: 0.0767 - 2s/epoch - 43ms/step\n",
            "Epoch 7/30\n",
            "54/54 - 2s - loss: 0.5307 - accuracy: 0.1508 - val_loss: 0.4881 - val_accuracy: 0.1072 - 2s/epoch - 43ms/step\n",
            "Epoch 8/30\n",
            "54/54 - 2s - loss: 0.5267 - accuracy: 0.1492 - val_loss: 0.4874 - val_accuracy: 0.1670 - 2s/epoch - 43ms/step\n",
            "Epoch 9/30\n",
            "54/54 - 2s - loss: 0.5204 - accuracy: 0.1628 - val_loss: 0.4847 - val_accuracy: 0.0621 - 2s/epoch - 46ms/step\n",
            "Epoch 10/30\n",
            "54/54 - 2s - loss: 0.5177 - accuracy: 0.1616 - val_loss: 0.4829 - val_accuracy: 0.0621 - 2s/epoch - 44ms/step\n",
            "Epoch 11/30\n",
            "54/54 - 2s - loss: 0.5161 - accuracy: 0.1658 - val_loss: 0.4837 - val_accuracy: 0.0621 - 2s/epoch - 43ms/step\n",
            "Epoch 12/30\n",
            "54/54 - 2s - loss: 0.5112 - accuracy: 0.1670 - val_loss: 0.4810 - val_accuracy: 0.0621 - 2s/epoch - 43ms/step\n",
            "Epoch 13/30\n",
            "54/54 - 2s - loss: 0.5073 - accuracy: 0.1791 - val_loss: 0.4780 - val_accuracy: 0.1219 - 2s/epoch - 43ms/step\n",
            "Epoch 14/30\n",
            "54/54 - 2s - loss: 0.4970 - accuracy: 0.2017 - val_loss: 0.4613 - val_accuracy: 0.3081 - 2s/epoch - 43ms/step\n",
            "Epoch 15/30\n",
            "54/54 - 2s - loss: 0.4725 - accuracy: 0.2473 - val_loss: 0.4277 - val_accuracy: 0.2968 - 2s/epoch - 43ms/step\n",
            "Epoch 16/30\n",
            "54/54 - 2s - loss: 0.4466 - accuracy: 0.2906 - val_loss: 0.4114 - val_accuracy: 0.3273 - 2s/epoch - 44ms/step\n",
            "Epoch 17/30\n",
            "54/54 - 2s - loss: 0.4299 - accuracy: 0.3131 - val_loss: 0.4055 - val_accuracy: 0.3612 - 2s/epoch - 43ms/step\n",
            "Epoch 18/30\n",
            "54/54 - 3s - loss: 0.4168 - accuracy: 0.3252 - val_loss: 0.4041 - val_accuracy: 0.3420 - 3s/epoch - 59ms/step\n",
            "Epoch 19/30\n",
            "54/54 - 4s - loss: 0.4072 - accuracy: 0.3358 - val_loss: 0.4043 - val_accuracy: 0.3499 - 4s/epoch - 77ms/step\n",
            "Epoch 20/30\n",
            "54/54 - 2s - loss: 0.3979 - accuracy: 0.3478 - val_loss: 0.4001 - val_accuracy: 0.3589 - 2s/epoch - 44ms/step\n",
            "Epoch 21/30\n",
            "54/54 - 2s - loss: 0.3897 - accuracy: 0.3614 - val_loss: 0.4041 - val_accuracy: 0.3431 - 2s/epoch - 44ms/step\n",
            "Epoch 22/30\n",
            "54/54 - 2s - loss: 0.3848 - accuracy: 0.3719 - val_loss: 0.4014 - val_accuracy: 0.3804 - 2s/epoch - 44ms/step\n",
            "Epoch 23/30\n",
            "54/54 - 2s - loss: 0.3830 - accuracy: 0.3715 - val_loss: 0.4039 - val_accuracy: 0.4650 - 2s/epoch - 45ms/step\n",
            "Epoch 24/30\n",
            "54/54 - 2s - loss: 0.3751 - accuracy: 0.3880 - val_loss: 0.4068 - val_accuracy: 0.4323 - 2s/epoch - 44ms/step\n",
            "Epoch 25/30\n",
            "54/54 - 2s - loss: 0.3696 - accuracy: 0.3957 - val_loss: 0.4085 - val_accuracy: 0.4628 - 2s/epoch - 46ms/step\n",
            "Epoch 26/30\n",
            "54/54 - 2s - loss: 0.3644 - accuracy: 0.4016 - val_loss: 0.4105 - val_accuracy: 0.4368 - 2s/epoch - 45ms/step\n",
            "Epoch 27/30\n",
            "54/54 - 2s - loss: 0.3619 - accuracy: 0.4025 - val_loss: 0.4164 - val_accuracy: 0.4718 - 2s/epoch - 45ms/step\n",
            "Epoch 28/30\n",
            "54/54 - 2s - loss: 0.3574 - accuracy: 0.4140 - val_loss: 0.4157 - val_accuracy: 0.4503 - 2s/epoch - 44ms/step\n",
            "Epoch 29/30\n",
            "54/54 - 2s - loss: 0.3543 - accuracy: 0.4245 - val_loss: 0.4194 - val_accuracy: 0.4616 - 2s/epoch - 44ms/step\n",
            "Epoch 30/30\n",
            "54/54 - 2s - loss: 0.3519 - accuracy: 0.4291 - val_loss: 0.4189 - val_accuracy: 0.4255 - 2s/epoch - 44ms/step\n"
          ]
        }
      ]
    },
    {
      "cell_type": "code",
      "source": [
        "test_evaluation = model.evaluate(test_ds)"
      ],
      "metadata": {
        "colab": {
          "base_uri": "https://localhost:8080/"
        },
        "id": "nwILI-5dJ0jC",
        "outputId": "56313383-3ee5-45c4-8e21-12ac6e1c6a7b"
      },
      "execution_count": null,
      "outputs": [
        {
          "output_type": "stream",
          "name": "stdout",
          "text": [
            "26/26 [==============================] - 1s 25ms/step - loss: 0.4163 - accuracy: 0.4498\n"
          ]
        }
      ]
    },
    {
      "cell_type": "code",
      "source": [
        "\n",
        "train_loss, train_acc = record.history['loss'], record.history['accuracy'] \n",
        "val_loss, val_acc = record.history['val_loss'], record.history['val_accuracy'] \n",
        "plt.figure(figsize=(10, 10)\n",
        "\n",
        "plt.subplot(2, 2, 1)\n",
        "plt.xlabel('Epochs') \n",
        "plt.ylabel('Loss')\n",
        "plt.title('Training loss') \n",
        "plt.plot(train_loss, color='green')\n",
        "\n",
        "plt.subplot(2, 2, 2) \n",
        "plt.xlabel('Epochs') \n",
        "plt.ylabel('Accuracy') \n",
        "plt.title('Training accuracy') \n",
        "plt.plot(train_acc, color='orange')\n",
        "\n",
        "plt.subplot(2, 2, 3) \n",
        "plt.xlabel('Epochs') \n",
        "plt.ylabel('Loss')\n",
        "plt.title('Validation loss') \n",
        "plt.plot(val_loss, color='green') \n",
        "\n",
        "plt.subplot(2, 2, 4)\n",
        "plt.xlabel('Epochs')\n",
        "plt.ylabel('Accuracy') \n",
        "plt.title('Validation accuracy') \n",
        "plt.plot(val_acc, color='orange') \n",
        "\n",
        "plt.show() "
      ],
      "metadata": {
        "colab": {
          "base_uri": "https://localhost:8080/",
          "height": 621
        },
        "id": "EvzCV9jDNYIr",
        "outputId": "080ebaee-4b84-4159-e92a-d6d656132a70"
      },
      "execution_count": null,
      "outputs": [
        {
          "output_type": "display_data",
          "data": {
            "text/plain": [
              "<Figure size 720x720 with 4 Axes>"
            ],
            "image/png": "[encoded data removed]"
          },
          "metadata": {
            "needs_background": "light"
          }
        }
      ]
    },
    {
      "cell_type": "code",
      "source": [
        "threshold = 0.4\n",
        "\n",
        "for text_batch, label_batch in test_ds.take(1):\n",
        "    for i in range(10):\n",
        "        input_text = text_batch[i].numpy()\n",
        "        label = label_batch[i].numpy()\n",
        "        pred = model.predict(np.expand_dims(input_text, 0), verbose=0)[0]\n",
        "        threshold_pred = np.where(pred > threshold, 1, 0)\n",
        "        print(f\"Text: {input_text}\")\n",
        "        print(f\"Label: {inverse_label(classes_name, label)}\")\n",
        "        print(f\"Predicted Label(s): ({inverse_label(classes_name, threshold_pred)})\")\n",
        "        print(\" \")"
      ],
      "metadata": {
        "colab": {
          "base_uri": "https://localhost:8080/"
        },
        "id": "DYkxKQ5hNgs9",
        "outputId": "f543e1de-345c-45bc-e620-734516b7ee65"
      },
      "execution_count": null,
      "outputs": [
        {
          "output_type": "stream",
          "name": "stdout",
          "text": [
            "Text: b'adnan__786__ asyounotwish dont worri indian armi way dispatch terrorist hell'\n",
            "Label: ['anger' 'anticipation' 'optimism' 'trust']\n",
            "Predicted Label(s): (['anger' 'disgust' 'fear' 'sadness'])\n",
            " \n",
            "Text: b'academi scienc eschew normal sober tone scientif paper call massiv loss wildlif biolog annihil'\n",
            "Label: ['disgust']\n",
            "Predicted Label(s): (['joy'])\n",
            " \n",
            "Text: b'blew opportun __ mad'\n",
            "Label: ['anger' 'disgust' 'sadness']\n",
            "Predicted Label(s): (['sadness'])\n",
            " \n",
            "Text: b'time 2 week 30'\n",
            "Label: ['joy' 'sadness']\n",
            "Predicted Label(s): (['sadness'])\n",
            " \n",
            "Text: b'deppress real partner w depress peopl truli dont understand depth affect us add anxieti ampmak wors'\n",
            "Label: ['fear' 'sadness']\n",
            "Predicted Label(s): (['anger' 'disgust' 'fear' 'sadness'])\n",
            " \n",
            "Text: b'politicoeurop interest choic word confirm govern fund terror bit open door still'\n",
            "Label: ['anger' 'disgust' 'fear' 'pessimism']\n",
            "Predicted Label(s): (['anger' 'disgust' 'sadness'])\n",
            " \n",
            "Text: b'ananavarro cnn sure'\n",
            "Label: ['joy' 'optimism']\n",
            "Predicted Label(s): (['disgust' 'sadness'])\n",
            " \n",
            "Text: b'distanc stretch friend impos seriou lovey notseri'\n",
            "Label: ['love']\n",
            "Predicted Label(s): (['joy' 'optimism'])\n",
            " \n",
            "Text: b'happi confid kindnn kissableslovesmshopmagnalloutdenimfor kissmarc'\n",
            "Label: ['joy' 'optimism']\n",
            "Predicted Label(s): (['joy' 'optimism'])\n",
            " \n",
            "Text: b'visit hospit care trigger trauma accid 20yr ago imag dead brother feel symptom depress'\n",
            "Label: ['sadness']\n",
            "Predicted Label(s): (['anger' 'disgust' 'sadness'])\n",
            " \n"
          ]
        }
      ]
    },
    {
      "cell_type": "code",
      "source": [],
      "metadata": {
        "id": "1SqUWtudNlcB"
      },
      "execution_count": null,
      "outputs": []
    }
  ]
}